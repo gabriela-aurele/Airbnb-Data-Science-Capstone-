{
 "cells": [
  {
   "cell_type": "code",
   "execution_count": 2,
   "id": "9926a650",
   "metadata": {},
   "outputs": [],
   "source": [
    "import pandas as pd\n",
    "import numpy as np\n",
    "import matplotlib.pyplot as plt\n",
    "import seaborn as sns\n",
    "from sklearn.model_selection import train_test_split, cross_validate, GridSearchCV, learning_curve\n",
    "from sklearn.linear_model import LinearRegression, Lasso\n",
    "from sklearn.ensemble import RandomForestRegressor\n",
    "from sklearn.metrics import accuracy_score\n",
    "from sklearn.model_selection import GridSearchCV\n",
    "from sklearn.pipeline import Pipeline\n",
    "from sklearn.pipeline import make_pipeline\n",
    "from sklearn.compose import ColumnTransformer\n",
    "from sklearn.impute import SimpleImputer\n",
    "from sklearn.preprocessing import StandardScaler, OneHotEncoder\n",
    "from sklearn.metrics import r2_score, mean_squared_error, mean_absolute_error\n",
    "from sklearn.feature_selection import SelectKBest, f_regression\n",
    "import datetime\n",
    "from datetime import datetime, timedelta"
   ]
  },
  {
   "cell_type": "code",
   "execution_count": 3,
   "id": "05a3a2a9",
   "metadata": {},
   "outputs": [],
   "source": [
    "raw_df = pd.read_csv('../raw_data/data/listings.csv')"
   ]
  },
  {
   "cell_type": "code",
   "execution_count": 4,
   "id": "0aa6eedb",
   "metadata": {},
   "outputs": [],
   "source": [
    "cols_to_drop = ['listing_url', 'scrape_id', 'last_scraped', 'source', 'name', 'description', 'neighborhood_overview',\n",
    "                'picture_url', 'host_id', 'host_url', 'host_name', 'host_location', 'host_about', 'host_thumbnail_url', \n",
    "                'host_picture_url', 'host_neighbourhood', 'host_verifications', 'calendar_last_scraped', 'bathrooms', \n",
    "                'calendar_updated', 'license', 'neighbourhood', 'neighbourhood_group_cleansed', 'latitude', 'longitude',\n",
    "                'minimum_minimum_nights', 'maximum_minimum_nights', 'minimum_maximum_nights',\n",
    "                'maximum_maximum_nights', 'minimum_nights_avg_ntm', 'maximum_nights_avg_ntm', 'review_scores_accuracy', \n",
    "                'review_scores_cleanliness', 'review_scores_checkin', 'review_scores_communication', \n",
    "                'review_scores_location', 'review_scores_value', 'availability_30', 'availability_60', 'availability_365', \n",
    "                'number_of_reviews_ltm', 'number_of_reviews_l30d', 'reviews_per_month', 'host_listings_count', \n",
    "                'host_total_listings_count', 'calculated_host_listings_count_entire_homes', \n",
    "                'calculated_host_listings_count_private_rooms', 'calculated_host_listings_count_shared_rooms']"
   ]
  },
  {
   "cell_type": "code",
   "execution_count": 5,
   "id": "a94c122d",
   "metadata": {},
   "outputs": [],
   "source": [
    "df = raw_df.drop(cols_to_drop, axis=1)"
   ]
  },
  {
   "cell_type": "code",
   "execution_count": 6,
   "id": "65a2585d",
   "metadata": {},
   "outputs": [],
   "source": [
    "df.set_index('id', inplace=True)"
   ]
  },
  {
   "cell_type": "code",
   "execution_count": 7,
   "id": "2f2fb1c5",
   "metadata": {},
   "outputs": [
    {
     "name": "stdout",
     "output_type": "stream",
     "text": [
      "The dataset contains 44464 Airbnb listings\n",
      "The dataset contains 26 columns\n"
     ]
    },
    {
     "data": {
      "text/html": [
       "<div>\n",
       "<style scoped>\n",
       "    .dataframe tbody tr th:only-of-type {\n",
       "        vertical-align: middle;\n",
       "    }\n",
       "\n",
       "    .dataframe tbody tr th {\n",
       "        vertical-align: top;\n",
       "    }\n",
       "\n",
       "    .dataframe thead th {\n",
       "        text-align: right;\n",
       "    }\n",
       "</style>\n",
       "<table border=\"1\" class=\"dataframe\">\n",
       "  <thead>\n",
       "    <tr style=\"text-align: right;\">\n",
       "      <th></th>\n",
       "      <th>host_since</th>\n",
       "      <th>host_response_time</th>\n",
       "      <th>host_response_rate</th>\n",
       "      <th>host_acceptance_rate</th>\n",
       "      <th>host_is_superhost</th>\n",
       "      <th>host_has_profile_pic</th>\n",
       "      <th>host_identity_verified</th>\n",
       "      <th>neighbourhood_cleansed</th>\n",
       "      <th>property_type</th>\n",
       "      <th>room_type</th>\n",
       "      <th>accommodates</th>\n",
       "      <th>bathrooms_text</th>\n",
       "      <th>bedrooms</th>\n",
       "      <th>beds</th>\n",
       "      <th>amenities</th>\n",
       "      <th>price</th>\n",
       "      <th>minimum_nights</th>\n",
       "      <th>maximum_nights</th>\n",
       "      <th>has_availability</th>\n",
       "      <th>availability_90</th>\n",
       "      <th>number_of_reviews</th>\n",
       "      <th>first_review</th>\n",
       "      <th>last_review</th>\n",
       "      <th>review_scores_rating</th>\n",
       "      <th>instant_bookable</th>\n",
       "      <th>calculated_host_listings_count</th>\n",
       "    </tr>\n",
       "    <tr>\n",
       "      <th>id</th>\n",
       "      <th></th>\n",
       "      <th></th>\n",
       "      <th></th>\n",
       "      <th></th>\n",
       "      <th></th>\n",
       "      <th></th>\n",
       "      <th></th>\n",
       "      <th></th>\n",
       "      <th></th>\n",
       "      <th></th>\n",
       "      <th></th>\n",
       "      <th></th>\n",
       "      <th></th>\n",
       "      <th></th>\n",
       "      <th></th>\n",
       "      <th></th>\n",
       "      <th></th>\n",
       "      <th></th>\n",
       "      <th></th>\n",
       "      <th></th>\n",
       "      <th></th>\n",
       "      <th></th>\n",
       "      <th></th>\n",
       "      <th></th>\n",
       "      <th></th>\n",
       "      <th></th>\n",
       "    </tr>\n",
       "  </thead>\n",
       "  <tbody>\n",
       "    <tr>\n",
       "      <th>150097</th>\n",
       "      <td>2011-05-31</td>\n",
       "      <td>within an hour</td>\n",
       "      <td>100%</td>\n",
       "      <td>100%</td>\n",
       "      <td>NaN</td>\n",
       "      <td>t</td>\n",
       "      <td>t</td>\n",
       "      <td>Valley Glen</td>\n",
       "      <td>Private room in bed and breakfast</td>\n",
       "      <td>Private room</td>\n",
       "      <td>3</td>\n",
       "      <td>1 private bath</td>\n",
       "      <td>NaN</td>\n",
       "      <td>2.0</td>\n",
       "      <td>[\"Private pool\", \"Smoke alarm\", \"Garden view\",...</td>\n",
       "      <td>$80.00</td>\n",
       "      <td>31</td>\n",
       "      <td>120</td>\n",
       "      <td>t</td>\n",
       "      <td>0</td>\n",
       "      <td>216</td>\n",
       "      <td>2012-11-02</td>\n",
       "      <td>2020-11-29</td>\n",
       "      <td>4.96</td>\n",
       "      <td>f</td>\n",
       "      <td>4</td>\n",
       "    </tr>\n",
       "    <tr>\n",
       "      <th>40667</th>\n",
       "      <td>2010-07-20</td>\n",
       "      <td>within a day</td>\n",
       "      <td>100%</td>\n",
       "      <td>17%</td>\n",
       "      <td>NaN</td>\n",
       "      <td>t</td>\n",
       "      <td>f</td>\n",
       "      <td>Mid-City</td>\n",
       "      <td>Private room in rental unit</td>\n",
       "      <td>Private room</td>\n",
       "      <td>2</td>\n",
       "      <td>1.5 shared baths</td>\n",
       "      <td>NaN</td>\n",
       "      <td>2.0</td>\n",
       "      <td>[\"Smoke alarm\", \"Hot water\", \"Free street park...</td>\n",
       "      <td>$59.00</td>\n",
       "      <td>30</td>\n",
       "      <td>180</td>\n",
       "      <td>t</td>\n",
       "      <td>90</td>\n",
       "      <td>12</td>\n",
       "      <td>2011-07-20</td>\n",
       "      <td>2018-08-24</td>\n",
       "      <td>4.30</td>\n",
       "      <td>f</td>\n",
       "      <td>1</td>\n",
       "    </tr>\n",
       "    <tr>\n",
       "      <th>109</th>\n",
       "      <td>2008-06-27</td>\n",
       "      <td>within a few hours</td>\n",
       "      <td>100%</td>\n",
       "      <td>0%</td>\n",
       "      <td>f</td>\n",
       "      <td>t</td>\n",
       "      <td>t</td>\n",
       "      <td>Culver City</td>\n",
       "      <td>Entire condo</td>\n",
       "      <td>Entire home/apt</td>\n",
       "      <td>6</td>\n",
       "      <td>2 baths</td>\n",
       "      <td>2.0</td>\n",
       "      <td>2.0</td>\n",
       "      <td>[\"Smoke alarm\", \"Garden view\", \"Pool view\", \"R...</td>\n",
       "      <td>$129.00</td>\n",
       "      <td>30</td>\n",
       "      <td>730</td>\n",
       "      <td>t</td>\n",
       "      <td>3</td>\n",
       "      <td>2</td>\n",
       "      <td>2011-08-15</td>\n",
       "      <td>2016-05-15</td>\n",
       "      <td>4.00</td>\n",
       "      <td>f</td>\n",
       "      <td>1</td>\n",
       "    </tr>\n",
       "  </tbody>\n",
       "</table>\n",
       "</div>"
      ],
      "text/plain": [
       "        host_since  host_response_time host_response_rate  \\\n",
       "id                                                          \n",
       "150097  2011-05-31      within an hour               100%   \n",
       "40667   2010-07-20        within a day               100%   \n",
       "109     2008-06-27  within a few hours               100%   \n",
       "\n",
       "       host_acceptance_rate host_is_superhost host_has_profile_pic  \\\n",
       "id                                                                   \n",
       "150097                 100%               NaN                    t   \n",
       "40667                   17%               NaN                    t   \n",
       "109                      0%                 f                    t   \n",
       "\n",
       "       host_identity_verified neighbourhood_cleansed  \\\n",
       "id                                                     \n",
       "150097                      t            Valley Glen   \n",
       "40667                       f               Mid-City   \n",
       "109                         t            Culver City   \n",
       "\n",
       "                            property_type        room_type  accommodates  \\\n",
       "id                                                                         \n",
       "150097  Private room in bed and breakfast     Private room             3   \n",
       "40667         Private room in rental unit     Private room             2   \n",
       "109                          Entire condo  Entire home/apt             6   \n",
       "\n",
       "          bathrooms_text  bedrooms  beds  \\\n",
       "id                                         \n",
       "150097    1 private bath       NaN   2.0   \n",
       "40667   1.5 shared baths       NaN   2.0   \n",
       "109              2 baths       2.0   2.0   \n",
       "\n",
       "                                                amenities    price  \\\n",
       "id                                                                   \n",
       "150097  [\"Private pool\", \"Smoke alarm\", \"Garden view\",...   $80.00   \n",
       "40667   [\"Smoke alarm\", \"Hot water\", \"Free street park...   $59.00   \n",
       "109     [\"Smoke alarm\", \"Garden view\", \"Pool view\", \"R...  $129.00   \n",
       "\n",
       "        minimum_nights  maximum_nights has_availability  availability_90  \\\n",
       "id                                                                         \n",
       "150097              31             120                t                0   \n",
       "40667               30             180                t               90   \n",
       "109                 30             730                t                3   \n",
       "\n",
       "        number_of_reviews first_review last_review  review_scores_rating  \\\n",
       "id                                                                         \n",
       "150097                216   2012-11-02  2020-11-29                  4.96   \n",
       "40667                  12   2011-07-20  2018-08-24                  4.30   \n",
       "109                     2   2011-08-15  2016-05-15                  4.00   \n",
       "\n",
       "       instant_bookable  calculated_host_listings_count  \n",
       "id                                                       \n",
       "150097                f                               4  \n",
       "40667                 f                               1  \n",
       "109                   f                               1  "
      ]
     },
     "execution_count": 7,
     "metadata": {},
     "output_type": "execute_result"
    }
   ],
   "source": [
    "print(f\"The dataset contains {len(df)} Airbnb listings\")\n",
    "print(f\"The dataset contains {len(df.columns)} columns\")\n",
    "pd.set_option('display.max_columns', len(df.columns)) \n",
    "pd.set_option('display.max_rows', 100)\n",
    "df.head(3)"
   ]
  },
  {
   "cell_type": "code",
   "execution_count": 8,
   "id": "0439b546",
   "metadata": {},
   "outputs": [],
   "source": [
    "df.replace({'f': 0, 't': 1}, inplace=True)"
   ]
  },
  {
   "cell_type": "code",
   "execution_count": 9,
   "id": "af961226",
   "metadata": {},
   "outputs": [],
   "source": [
    "df['bathrooms_text'] = df['bathrooms_text'].str.extract(pat='(\\d+)', expand=False)\n",
    "df['bathrooms_text'] = df['bathrooms_text'].astype('float')"
   ]
  },
  {
   "cell_type": "code",
   "execution_count": 10,
   "id": "e03a1be1",
   "metadata": {},
   "outputs": [],
   "source": [
    "#change price column from object to float and remove special characters\n",
    "char_remove = {'$':'', ',':''}\n",
    "for key, value in char_remove.items():\n",
    "    df['price'] = df['price'].str.replace(key, value, regex=True)\n",
    "    \n",
    "df['price'] = df['price'].astype('float')"
   ]
  },
  {
   "cell_type": "code",
   "execution_count": 11,
   "id": "c82f08a6",
   "metadata": {},
   "outputs": [],
   "source": [
    "df[['first_review', 'last_review', 'host_since']] = df[['first_review', 'last_review', 'host_since']].apply(pd.to_datetime)"
   ]
  },
  {
   "cell_type": "code",
   "execution_count": 12,
   "id": "40b60002",
   "metadata": {},
   "outputs": [],
   "source": [
    "df['host_days_active'] = (datetime(2023, 4, 6) - df.host_since).astype('timedelta64[D]')\n",
    "df.drop(['host_since'], axis=1, inplace=True)"
   ]
  },
  {
   "cell_type": "code",
   "execution_count": 13,
   "id": "7d62f090",
   "metadata": {},
   "outputs": [],
   "source": [
    "df['days_since_first_review'] = (datetime(2023, 4, 6) - df.first_review).astype('timedelta64[D]')\n",
    "df.drop(['first_review'], axis=1, inplace=True)"
   ]
  },
  {
   "cell_type": "code",
   "execution_count": 14,
   "id": "2990ec80",
   "metadata": {},
   "outputs": [],
   "source": [
    "df['days_since_last_review'] = (datetime(2023, 4, 6) - df.last_review).astype('timedelta64[D]')\n",
    "df.drop(['last_review'], axis=1, inplace=True)"
   ]
  },
  {
   "cell_type": "code",
   "execution_count": 15,
   "id": "087840d9",
   "metadata": {},
   "outputs": [],
   "source": [
    "#df.dtypes"
   ]
  },
  {
   "cell_type": "code",
   "execution_count": 16,
   "id": "939f1b74",
   "metadata": {},
   "outputs": [
    {
     "data": {
      "text/html": [
       "<div>\n",
       "<style scoped>\n",
       "    .dataframe tbody tr th:only-of-type {\n",
       "        vertical-align: middle;\n",
       "    }\n",
       "\n",
       "    .dataframe tbody tr th {\n",
       "        vertical-align: top;\n",
       "    }\n",
       "\n",
       "    .dataframe thead th {\n",
       "        text-align: right;\n",
       "    }\n",
       "</style>\n",
       "<table border=\"1\" class=\"dataframe\">\n",
       "  <thead>\n",
       "    <tr style=\"text-align: right;\">\n",
       "      <th></th>\n",
       "      <th>host_response_time</th>\n",
       "      <th>host_response_rate</th>\n",
       "      <th>host_acceptance_rate</th>\n",
       "      <th>host_is_superhost</th>\n",
       "      <th>host_has_profile_pic</th>\n",
       "      <th>host_identity_verified</th>\n",
       "      <th>neighbourhood_cleansed</th>\n",
       "      <th>property_type</th>\n",
       "      <th>room_type</th>\n",
       "      <th>accommodates</th>\n",
       "      <th>bathrooms_text</th>\n",
       "      <th>bedrooms</th>\n",
       "      <th>beds</th>\n",
       "      <th>amenities</th>\n",
       "      <th>price</th>\n",
       "      <th>minimum_nights</th>\n",
       "      <th>maximum_nights</th>\n",
       "      <th>has_availability</th>\n",
       "      <th>availability_90</th>\n",
       "      <th>number_of_reviews</th>\n",
       "      <th>review_scores_rating</th>\n",
       "      <th>instant_bookable</th>\n",
       "      <th>calculated_host_listings_count</th>\n",
       "      <th>host_days_active</th>\n",
       "      <th>days_since_first_review</th>\n",
       "      <th>days_since_last_review</th>\n",
       "    </tr>\n",
       "    <tr>\n",
       "      <th>id</th>\n",
       "      <th></th>\n",
       "      <th></th>\n",
       "      <th></th>\n",
       "      <th></th>\n",
       "      <th></th>\n",
       "      <th></th>\n",
       "      <th></th>\n",
       "      <th></th>\n",
       "      <th></th>\n",
       "      <th></th>\n",
       "      <th></th>\n",
       "      <th></th>\n",
       "      <th></th>\n",
       "      <th></th>\n",
       "      <th></th>\n",
       "      <th></th>\n",
       "      <th></th>\n",
       "      <th></th>\n",
       "      <th></th>\n",
       "      <th></th>\n",
       "      <th></th>\n",
       "      <th></th>\n",
       "      <th></th>\n",
       "      <th></th>\n",
       "      <th></th>\n",
       "      <th></th>\n",
       "    </tr>\n",
       "  </thead>\n",
       "  <tbody>\n",
       "    <tr>\n",
       "      <th>150097</th>\n",
       "      <td>within an hour</td>\n",
       "      <td>100%</td>\n",
       "      <td>100%</td>\n",
       "      <td>NaN</td>\n",
       "      <td>1.0</td>\n",
       "      <td>1.0</td>\n",
       "      <td>Valley Glen</td>\n",
       "      <td>Private room in bed and breakfast</td>\n",
       "      <td>Private room</td>\n",
       "      <td>3</td>\n",
       "      <td>1.0</td>\n",
       "      <td>NaN</td>\n",
       "      <td>2.0</td>\n",
       "      <td>[\"Private pool\", \"Smoke alarm\", \"Garden view\",...</td>\n",
       "      <td>80.0</td>\n",
       "      <td>31</td>\n",
       "      <td>120</td>\n",
       "      <td>1</td>\n",
       "      <td>0</td>\n",
       "      <td>216</td>\n",
       "      <td>4.96</td>\n",
       "      <td>0</td>\n",
       "      <td>4</td>\n",
       "      <td>4328.0</td>\n",
       "      <td>3807.0</td>\n",
       "      <td>858.0</td>\n",
       "    </tr>\n",
       "    <tr>\n",
       "      <th>40667</th>\n",
       "      <td>within a day</td>\n",
       "      <td>100%</td>\n",
       "      <td>17%</td>\n",
       "      <td>NaN</td>\n",
       "      <td>1.0</td>\n",
       "      <td>0.0</td>\n",
       "      <td>Mid-City</td>\n",
       "      <td>Private room in rental unit</td>\n",
       "      <td>Private room</td>\n",
       "      <td>2</td>\n",
       "      <td>1.0</td>\n",
       "      <td>NaN</td>\n",
       "      <td>2.0</td>\n",
       "      <td>[\"Smoke alarm\", \"Hot water\", \"Free street park...</td>\n",
       "      <td>59.0</td>\n",
       "      <td>30</td>\n",
       "      <td>180</td>\n",
       "      <td>1</td>\n",
       "      <td>90</td>\n",
       "      <td>12</td>\n",
       "      <td>4.30</td>\n",
       "      <td>0</td>\n",
       "      <td>1</td>\n",
       "      <td>4643.0</td>\n",
       "      <td>4278.0</td>\n",
       "      <td>1686.0</td>\n",
       "    </tr>\n",
       "    <tr>\n",
       "      <th>109</th>\n",
       "      <td>within a few hours</td>\n",
       "      <td>100%</td>\n",
       "      <td>0%</td>\n",
       "      <td>0.0</td>\n",
       "      <td>1.0</td>\n",
       "      <td>1.0</td>\n",
       "      <td>Culver City</td>\n",
       "      <td>Entire condo</td>\n",
       "      <td>Entire home/apt</td>\n",
       "      <td>6</td>\n",
       "      <td>2.0</td>\n",
       "      <td>2.0</td>\n",
       "      <td>2.0</td>\n",
       "      <td>[\"Smoke alarm\", \"Garden view\", \"Pool view\", \"R...</td>\n",
       "      <td>129.0</td>\n",
       "      <td>30</td>\n",
       "      <td>730</td>\n",
       "      <td>1</td>\n",
       "      <td>3</td>\n",
       "      <td>2</td>\n",
       "      <td>4.00</td>\n",
       "      <td>0</td>\n",
       "      <td>1</td>\n",
       "      <td>5396.0</td>\n",
       "      <td>4252.0</td>\n",
       "      <td>2517.0</td>\n",
       "    </tr>\n",
       "  </tbody>\n",
       "</table>\n",
       "</div>"
      ],
      "text/plain": [
       "        host_response_time host_response_rate host_acceptance_rate  \\\n",
       "id                                                                   \n",
       "150097      within an hour               100%                 100%   \n",
       "40667         within a day               100%                  17%   \n",
       "109     within a few hours               100%                   0%   \n",
       "\n",
       "        host_is_superhost  host_has_profile_pic  host_identity_verified  \\\n",
       "id                                                                        \n",
       "150097                NaN                   1.0                     1.0   \n",
       "40667                 NaN                   1.0                     0.0   \n",
       "109                   0.0                   1.0                     1.0   \n",
       "\n",
       "       neighbourhood_cleansed                      property_type  \\\n",
       "id                                                                 \n",
       "150097            Valley Glen  Private room in bed and breakfast   \n",
       "40667                Mid-City        Private room in rental unit   \n",
       "109               Culver City                       Entire condo   \n",
       "\n",
       "              room_type  accommodates  bathrooms_text  bedrooms  beds  \\\n",
       "id                                                                      \n",
       "150097     Private room             3             1.0       NaN   2.0   \n",
       "40667      Private room             2             1.0       NaN   2.0   \n",
       "109     Entire home/apt             6             2.0       2.0   2.0   \n",
       "\n",
       "                                                amenities  price  \\\n",
       "id                                                                 \n",
       "150097  [\"Private pool\", \"Smoke alarm\", \"Garden view\",...   80.0   \n",
       "40667   [\"Smoke alarm\", \"Hot water\", \"Free street park...   59.0   \n",
       "109     [\"Smoke alarm\", \"Garden view\", \"Pool view\", \"R...  129.0   \n",
       "\n",
       "        minimum_nights  maximum_nights  has_availability  availability_90  \\\n",
       "id                                                                          \n",
       "150097              31             120                 1                0   \n",
       "40667               30             180                 1               90   \n",
       "109                 30             730                 1                3   \n",
       "\n",
       "        number_of_reviews  review_scores_rating  instant_bookable  \\\n",
       "id                                                                  \n",
       "150097                216                  4.96                 0   \n",
       "40667                  12                  4.30                 0   \n",
       "109                     2                  4.00                 0   \n",
       "\n",
       "        calculated_host_listings_count  host_days_active  \\\n",
       "id                                                         \n",
       "150097                               4            4328.0   \n",
       "40667                                1            4643.0   \n",
       "109                                  1            5396.0   \n",
       "\n",
       "        days_since_first_review  days_since_last_review  \n",
       "id                                                       \n",
       "150097                   3807.0                   858.0  \n",
       "40667                    4278.0                  1686.0  \n",
       "109                      4252.0                  2517.0  "
      ]
     },
     "execution_count": 16,
     "metadata": {},
     "output_type": "execute_result"
    }
   ],
   "source": [
    "pd.set_option('display.max_columns', len(df.columns)) \n",
    "pd.set_option('display.max_rows', 100)\n",
    "df.head(3)"
   ]
  },
  {
   "cell_type": "code",
   "execution_count": 17,
   "id": "1d3fbd6d",
   "metadata": {},
   "outputs": [],
   "source": [
    "df.drop(['property_type', 'amenities'], axis=1, inplace=True)"
   ]
  },
  {
   "cell_type": "code",
   "execution_count": 18,
   "id": "d96a3e61",
   "metadata": {},
   "outputs": [
    {
     "data": {
      "text/plain": [
       "within an hour        25894\n",
       "unknown                9975\n",
       "within a few hours     5697\n",
       "within a day           2233\n",
       "a few days or more      665\n",
       "Name: host_response_time, dtype: int64"
      ]
     },
     "execution_count": 18,
     "metadata": {},
     "output_type": "execute_result"
    }
   ],
   "source": [
    "df.host_response_time.fillna(\"unknown\", inplace=True)\n",
    "df['host_response_time'].value_counts()"
   ]
  },
  {
   "cell_type": "code",
   "execution_count": 19,
   "id": "67367330",
   "metadata": {},
   "outputs": [],
   "source": [
    "df.host_response_rate = df.host_response_rate.str[:-1].astype('float64')"
   ]
  },
  {
   "cell_type": "code",
   "execution_count": 20,
   "id": "cf1c4b9a",
   "metadata": {},
   "outputs": [
    {
     "data": {
      "text/plain": [
       "100%       26870\n",
       "unknown     9975\n",
       "90-99%      3854\n",
       "50-89%      2858\n",
       "0-49%        907\n",
       "Name: host_response_rate, dtype: int64"
      ]
     },
     "execution_count": 20,
     "metadata": {},
     "output_type": "execute_result"
    }
   ],
   "source": [
    "df.host_response_rate = pd.cut(df.host_response_rate, \n",
    "                               bins=[0, 50, 90, 99, 100], \n",
    "                               labels=['0-49%', '50-89%', '90-99%', '100%'], \n",
    "                               include_lowest=True)\n",
    "\n",
    "# Converting to string\n",
    "df.host_response_rate = df.host_response_rate.astype('str')\n",
    "\n",
    "# Replace nulls with 'unknown'\n",
    "df.host_response_rate.replace('nan', 'unknown', inplace=True)\n",
    "\n",
    "# Category counts\n",
    "df.host_response_rate.value_counts()"
   ]
  },
  {
   "cell_type": "code",
   "execution_count": 21,
   "id": "db4722c5",
   "metadata": {},
   "outputs": [
    {
     "data": {
      "text/plain": [
       "host_response_time                 object\n",
       "host_response_rate                 object\n",
       "host_acceptance_rate               object\n",
       "host_is_superhost                 float64\n",
       "host_has_profile_pic              float64\n",
       "host_identity_verified            float64\n",
       "neighbourhood_cleansed             object\n",
       "room_type                          object\n",
       "accommodates                        int64\n",
       "bathrooms_text                    float64\n",
       "bedrooms                          float64\n",
       "beds                              float64\n",
       "price                             float64\n",
       "minimum_nights                      int64\n",
       "maximum_nights                      int64\n",
       "has_availability                    int64\n",
       "availability_90                     int64\n",
       "number_of_reviews                   int64\n",
       "review_scores_rating              float64\n",
       "instant_bookable                    int64\n",
       "calculated_host_listings_count      int64\n",
       "host_days_active                  float64\n",
       "days_since_first_review           float64\n",
       "days_since_last_review            float64\n",
       "dtype: object"
      ]
     },
     "execution_count": 21,
     "metadata": {},
     "output_type": "execute_result"
    }
   ],
   "source": [
    "df.dtypes"
   ]
  },
  {
   "cell_type": "code",
   "execution_count": 22,
   "id": "2241b783",
   "metadata": {},
   "outputs": [
    {
     "name": "stdout",
     "output_type": "stream",
     "text": [
      "X:  <class 'pandas.core.frame.DataFrame'> (44464, 23)\n"
     ]
    }
   ],
   "source": [
    "X = df.drop(columns = ['price'])\n",
    "print(\"X: \", type(X), X.shape)"
   ]
  },
  {
   "cell_type": "code",
   "execution_count": 23,
   "id": "21da3022",
   "metadata": {},
   "outputs": [
    {
     "name": "stdout",
     "output_type": "stream",
     "text": [
      "y:  <class 'pandas.core.series.Series'> (44464,)\n"
     ]
    }
   ],
   "source": [
    "y = df['price']\n",
    "print(\"y: \", type(y), y.shape)"
   ]
  },
  {
   "cell_type": "code",
   "execution_count": 24,
   "id": "b46668e9",
   "metadata": {},
   "outputs": [],
   "source": [
    "X_train, X_test, y_train, y_test = train_test_split(X, y, test_size=0.2, random_state=42)"
   ]
  },
  {
   "cell_type": "code",
   "execution_count": 25,
   "id": "11639e73",
   "metadata": {},
   "outputs": [
    {
     "data": {
      "text/plain": [
       "((35571, 23), (8893, 23))"
      ]
     },
     "execution_count": 25,
     "metadata": {},
     "output_type": "execute_result"
    }
   ],
   "source": [
    "X_train.shape, X_test.shape"
   ]
  },
  {
   "cell_type": "code",
   "execution_count": 26,
   "id": "50fbc549",
   "metadata": {},
   "outputs": [
    {
     "data": {
      "text/plain": [
       "((35571,), (8893,))"
      ]
     },
     "execution_count": 26,
     "metadata": {},
     "output_type": "execute_result"
    }
   ],
   "source": [
    "y_train.shape, y_test.shape"
   ]
  },
  {
   "cell_type": "code",
   "execution_count": 27,
   "id": "fe49e7ca",
   "metadata": {},
   "outputs": [
    {
     "data": {
      "text/plain": [
       "((35571, 18), (8893, 18))"
      ]
     },
     "execution_count": 27,
     "metadata": {},
     "output_type": "execute_result"
    }
   ],
   "source": [
    "cat_list = ['host_response_time', 'host_response_rate', 'host_acceptance_rate', 'neighbourhood_cleansed', 'room_type']\n",
    "names_train = X_train[cat_list]\n",
    "names_test = X_test[cat_list]\n",
    "X_train.drop(columns=cat_list, inplace=True)\n",
    "X_test.drop(columns=cat_list, inplace=True)\n",
    "X_train.shape, X_test.shape"
   ]
  },
  {
   "cell_type": "code",
   "execution_count": 28,
   "id": "f288a77e",
   "metadata": {},
   "outputs": [
    {
     "data": {
      "text/plain": [
       "host_is_superhost                 float64\n",
       "host_has_profile_pic              float64\n",
       "host_identity_verified            float64\n",
       "accommodates                        int64\n",
       "bathrooms_text                    float64\n",
       "bedrooms                          float64\n",
       "beds                              float64\n",
       "minimum_nights                      int64\n",
       "maximum_nights                      int64\n",
       "has_availability                    int64\n",
       "availability_90                     int64\n",
       "number_of_reviews                   int64\n",
       "review_scores_rating              float64\n",
       "instant_bookable                    int64\n",
       "calculated_host_listings_count      int64\n",
       "host_days_active                  float64\n",
       "days_since_first_review           float64\n",
       "days_since_last_review            float64\n",
       "dtype: object"
      ]
     },
     "execution_count": 28,
     "metadata": {},
     "output_type": "execute_result"
    }
   ],
   "source": [
    "X_train.dtypes"
   ]
  },
  {
   "cell_type": "code",
   "execution_count": 29,
   "id": "c335be2a",
   "metadata": {},
   "outputs": [
    {
     "data": {
      "text/plain": [
       "host_is_superhost                 float64\n",
       "host_has_profile_pic              float64\n",
       "host_identity_verified            float64\n",
       "accommodates                        int64\n",
       "bathrooms_text                    float64\n",
       "bedrooms                          float64\n",
       "beds                              float64\n",
       "minimum_nights                      int64\n",
       "maximum_nights                      int64\n",
       "has_availability                    int64\n",
       "availability_90                     int64\n",
       "number_of_reviews                   int64\n",
       "review_scores_rating              float64\n",
       "instant_bookable                    int64\n",
       "calculated_host_listings_count      int64\n",
       "host_days_active                  float64\n",
       "days_since_first_review           float64\n",
       "days_since_last_review            float64\n",
       "dtype: object"
      ]
     },
     "execution_count": 29,
     "metadata": {},
     "output_type": "execute_result"
    }
   ],
   "source": [
    "X_test.dtypes"
   ]
  },
  {
   "cell_type": "code",
   "execution_count": 30,
   "id": "d01f0a06",
   "metadata": {},
   "outputs": [
    {
     "data": {
      "text/plain": [
       "282.3223974586039"
      ]
     },
     "execution_count": 30,
     "metadata": {},
     "output_type": "execute_result"
    }
   ],
   "source": [
    "y_train.mean()"
   ]
  },
  {
   "cell_type": "code",
   "execution_count": 31,
   "id": "0d77322a",
   "metadata": {},
   "outputs": [],
   "source": [
    "pipeline = make_pipeline(\n",
    "    SimpleImputer(strategy='median'), \n",
    "    StandardScaler(), \n",
    "    Lasso()\n",
    ")"
   ]
  },
  {
   "cell_type": "code",
   "execution_count": 32,
   "id": "be1f991a",
   "metadata": {},
   "outputs": [],
   "source": [
    "param_grid = {\n",
    "    'lasso__alpha': [0.0001, 0.001, 0.01, 1, 10, 100, 1000, 10000]\n",
    "}\n",
    "\n",
    "grid_search = GridSearchCV(pipeline, param_grid=param_grid, cv=5)"
   ]
  },
  {
   "cell_type": "code",
   "execution_count": 33,
   "id": "e061feb5",
   "metadata": {},
   "outputs": [
    {
     "data": {
      "text/html": [
       "<style>#sk-container-id-1 {color: black;background-color: white;}#sk-container-id-1 pre{padding: 0;}#sk-container-id-1 div.sk-toggleable {background-color: white;}#sk-container-id-1 label.sk-toggleable__label {cursor: pointer;display: block;width: 100%;margin-bottom: 0;padding: 0.3em;box-sizing: border-box;text-align: center;}#sk-container-id-1 label.sk-toggleable__label-arrow:before {content: \"▸\";float: left;margin-right: 0.25em;color: #696969;}#sk-container-id-1 label.sk-toggleable__label-arrow:hover:before {color: black;}#sk-container-id-1 div.sk-estimator:hover label.sk-toggleable__label-arrow:before {color: black;}#sk-container-id-1 div.sk-toggleable__content {max-height: 0;max-width: 0;overflow: hidden;text-align: left;background-color: #f0f8ff;}#sk-container-id-1 div.sk-toggleable__content pre {margin: 0.2em;color: black;border-radius: 0.25em;background-color: #f0f8ff;}#sk-container-id-1 input.sk-toggleable__control:checked~div.sk-toggleable__content {max-height: 200px;max-width: 100%;overflow: auto;}#sk-container-id-1 input.sk-toggleable__control:checked~label.sk-toggleable__label-arrow:before {content: \"▾\";}#sk-container-id-1 div.sk-estimator input.sk-toggleable__control:checked~label.sk-toggleable__label {background-color: #d4ebff;}#sk-container-id-1 div.sk-label input.sk-toggleable__control:checked~label.sk-toggleable__label {background-color: #d4ebff;}#sk-container-id-1 input.sk-hidden--visually {border: 0;clip: rect(1px 1px 1px 1px);clip: rect(1px, 1px, 1px, 1px);height: 1px;margin: -1px;overflow: hidden;padding: 0;position: absolute;width: 1px;}#sk-container-id-1 div.sk-estimator {font-family: monospace;background-color: #f0f8ff;border: 1px dotted black;border-radius: 0.25em;box-sizing: border-box;margin-bottom: 0.5em;}#sk-container-id-1 div.sk-estimator:hover {background-color: #d4ebff;}#sk-container-id-1 div.sk-parallel-item::after {content: \"\";width: 100%;border-bottom: 1px solid gray;flex-grow: 1;}#sk-container-id-1 div.sk-label:hover label.sk-toggleable__label {background-color: #d4ebff;}#sk-container-id-1 div.sk-serial::before {content: \"\";position: absolute;border-left: 1px solid gray;box-sizing: border-box;top: 0;bottom: 0;left: 50%;z-index: 0;}#sk-container-id-1 div.sk-serial {display: flex;flex-direction: column;align-items: center;background-color: white;padding-right: 0.2em;padding-left: 0.2em;position: relative;}#sk-container-id-1 div.sk-item {position: relative;z-index: 1;}#sk-container-id-1 div.sk-parallel {display: flex;align-items: stretch;justify-content: center;background-color: white;position: relative;}#sk-container-id-1 div.sk-item::before, #sk-container-id-1 div.sk-parallel-item::before {content: \"\";position: absolute;border-left: 1px solid gray;box-sizing: border-box;top: 0;bottom: 0;left: 50%;z-index: -1;}#sk-container-id-1 div.sk-parallel-item {display: flex;flex-direction: column;z-index: 1;position: relative;background-color: white;}#sk-container-id-1 div.sk-parallel-item:first-child::after {align-self: flex-end;width: 50%;}#sk-container-id-1 div.sk-parallel-item:last-child::after {align-self: flex-start;width: 50%;}#sk-container-id-1 div.sk-parallel-item:only-child::after {width: 0;}#sk-container-id-1 div.sk-dashed-wrapped {border: 1px dashed gray;margin: 0 0.4em 0.5em 0.4em;box-sizing: border-box;padding-bottom: 0.4em;background-color: white;}#sk-container-id-1 div.sk-label label {font-family: monospace;font-weight: bold;display: inline-block;line-height: 1.2em;}#sk-container-id-1 div.sk-label-container {text-align: center;}#sk-container-id-1 div.sk-container {/* jupyter's `normalize.less` sets `[hidden] { display: none; }` but bootstrap.min.css set `[hidden] { display: none !important; }` so we also need the `!important` here to be able to override the default hidden behavior on the sphinx rendered scikit-learn.org. See: https://github.com/scikit-learn/scikit-learn/issues/21755 */display: inline-block !important;position: relative;}#sk-container-id-1 div.sk-text-repr-fallback {display: none;}</style><div id=\"sk-container-id-1\" class=\"sk-top-container\"><div class=\"sk-text-repr-fallback\"><pre>GridSearchCV(cv=5,\n",
       "             estimator=Pipeline(steps=[(&#x27;simpleimputer&#x27;,\n",
       "                                        SimpleImputer(strategy=&#x27;median&#x27;)),\n",
       "                                       (&#x27;standardscaler&#x27;, StandardScaler()),\n",
       "                                       (&#x27;lasso&#x27;, Lasso())]),\n",
       "             param_grid={&#x27;lasso__alpha&#x27;: [0.0001, 0.001, 0.01, 1, 10, 100, 1000,\n",
       "                                          10000]})</pre><b>In a Jupyter environment, please rerun this cell to show the HTML representation or trust the notebook. <br />On GitHub, the HTML representation is unable to render, please try loading this page with nbviewer.org.</b></div><div class=\"sk-container\" hidden><div class=\"sk-item sk-dashed-wrapped\"><div class=\"sk-label-container\"><div class=\"sk-label sk-toggleable\"><input class=\"sk-toggleable__control sk-hidden--visually\" id=\"sk-estimator-id-1\" type=\"checkbox\" ><label for=\"sk-estimator-id-1\" class=\"sk-toggleable__label sk-toggleable__label-arrow\">GridSearchCV</label><div class=\"sk-toggleable__content\"><pre>GridSearchCV(cv=5,\n",
       "             estimator=Pipeline(steps=[(&#x27;simpleimputer&#x27;,\n",
       "                                        SimpleImputer(strategy=&#x27;median&#x27;)),\n",
       "                                       (&#x27;standardscaler&#x27;, StandardScaler()),\n",
       "                                       (&#x27;lasso&#x27;, Lasso())]),\n",
       "             param_grid={&#x27;lasso__alpha&#x27;: [0.0001, 0.001, 0.01, 1, 10, 100, 1000,\n",
       "                                          10000]})</pre></div></div></div><div class=\"sk-parallel\"><div class=\"sk-parallel-item\"><div class=\"sk-item\"><div class=\"sk-label-container\"><div class=\"sk-label sk-toggleable\"><input class=\"sk-toggleable__control sk-hidden--visually\" id=\"sk-estimator-id-2\" type=\"checkbox\" ><label for=\"sk-estimator-id-2\" class=\"sk-toggleable__label sk-toggleable__label-arrow\">estimator: Pipeline</label><div class=\"sk-toggleable__content\"><pre>Pipeline(steps=[(&#x27;simpleimputer&#x27;, SimpleImputer(strategy=&#x27;median&#x27;)),\n",
       "                (&#x27;standardscaler&#x27;, StandardScaler()), (&#x27;lasso&#x27;, Lasso())])</pre></div></div></div><div class=\"sk-serial\"><div class=\"sk-item\"><div class=\"sk-serial\"><div class=\"sk-item\"><div class=\"sk-estimator sk-toggleable\"><input class=\"sk-toggleable__control sk-hidden--visually\" id=\"sk-estimator-id-3\" type=\"checkbox\" ><label for=\"sk-estimator-id-3\" class=\"sk-toggleable__label sk-toggleable__label-arrow\">SimpleImputer</label><div class=\"sk-toggleable__content\"><pre>SimpleImputer(strategy=&#x27;median&#x27;)</pre></div></div></div><div class=\"sk-item\"><div class=\"sk-estimator sk-toggleable\"><input class=\"sk-toggleable__control sk-hidden--visually\" id=\"sk-estimator-id-4\" type=\"checkbox\" ><label for=\"sk-estimator-id-4\" class=\"sk-toggleable__label sk-toggleable__label-arrow\">StandardScaler</label><div class=\"sk-toggleable__content\"><pre>StandardScaler()</pre></div></div></div><div class=\"sk-item\"><div class=\"sk-estimator sk-toggleable\"><input class=\"sk-toggleable__control sk-hidden--visually\" id=\"sk-estimator-id-5\" type=\"checkbox\" ><label for=\"sk-estimator-id-5\" class=\"sk-toggleable__label sk-toggleable__label-arrow\">Lasso</label><div class=\"sk-toggleable__content\"><pre>Lasso()</pre></div></div></div></div></div></div></div></div></div></div></div></div>"
      ],
      "text/plain": [
       "GridSearchCV(cv=5,\n",
       "             estimator=Pipeline(steps=[('simpleimputer',\n",
       "                                        SimpleImputer(strategy='median')),\n",
       "                                       ('standardscaler', StandardScaler()),\n",
       "                                       ('lasso', Lasso())]),\n",
       "             param_grid={'lasso__alpha': [0.0001, 0.001, 0.01, 1, 10, 100, 1000,\n",
       "                                          10000]})"
      ]
     },
     "execution_count": 33,
     "metadata": {},
     "output_type": "execute_result"
    }
   ],
   "source": [
    "grid_search.fit(X_train, y_train)"
   ]
  },
  {
   "cell_type": "code",
   "execution_count": 34,
   "id": "c872f806",
   "metadata": {},
   "outputs": [],
   "source": [
    "best_model = grid_search.best_estimator_"
   ]
  },
  {
   "cell_type": "code",
   "execution_count": 39,
   "id": "fe625c70",
   "metadata": {},
   "outputs": [],
   "source": [
    "y_tr_pred = best_model.predict(X_train)\n",
    "y_te_pred = best_model.predict(X_test)"
   ]
  },
  {
   "cell_type": "code",
   "execution_count": 40,
   "id": "745bd2ae",
   "metadata": {},
   "outputs": [
    {
     "data": {
      "text/plain": [
       "(0.14184867552709524, 0.27950165997645227)"
      ]
     },
     "execution_count": 40,
     "metadata": {},
     "output_type": "execute_result"
    }
   ],
   "source": [
    "r2_score(y_train, y_tr_pred), r2_score(y_test, y_te_pred)"
   ]
  },
  {
   "cell_type": "code",
   "execution_count": 37,
   "id": "446d5b1f",
   "metadata": {},
   "outputs": [
    {
     "data": {
      "text/plain": [
       "(187.209720576058, 174.1797445922373)"
      ]
     },
     "execution_count": 37,
     "metadata": {},
     "output_type": "execute_result"
    }
   ],
   "source": [
    "mean_absolute_error(y_train, y_tr_pred), mean_absolute_error(y_test, y_te_pred)"
   ]
  },
  {
   "cell_type": "code",
   "execution_count": 38,
   "id": "2afa76d8",
   "metadata": {},
   "outputs": [
    {
     "data": {
      "text/plain": [
       "(756318.1819740174, 250379.91880031128)"
      ]
     },
     "execution_count": 38,
     "metadata": {},
     "output_type": "execute_result"
    }
   ],
   "source": [
    "mean_squared_error(y_train, y_tr_pred), mean_squared_error(y_test, y_te_pred)"
   ]
  },
  {
   "cell_type": "code",
   "execution_count": null,
   "id": "6a68fa9f",
   "metadata": {},
   "outputs": [],
   "source": [
    "#numeric_features = X_train.select_dtypes(include=['int64', 'float64']).columns\n",
    "#categorical_features = X_train.select_dtypes(include=['object']).columns"
   ]
  },
  {
   "cell_type": "code",
   "execution_count": null,
   "id": "61a8a233",
   "metadata": {},
   "outputs": [],
   "source": [
    "#numeric_transformer = Pipeline(steps=[\n",
    "#    ('imputer', SimpleImputer(strategy='median'))  \n",
    "#])\n",
    "\n",
    "#categorical_transformer = Pipeline(steps=[\n",
    "#    ('imputer', SimpleImputer(strategy='most_frequent')),  \n",
    "#])\n"
   ]
  },
  {
   "cell_type": "code",
   "execution_count": null,
   "id": "1a4862a2",
   "metadata": {},
   "outputs": [],
   "source": [
    "#preprocessor = ColumnTransformer(\n",
    "#    transformers=[\n",
    "#        ('num', numeric_transformer, numeric_features),\n",
    "#        ('cat', categorical_transformer, categorical_features)\n",
    "#    ])"
   ]
  },
  {
   "cell_type": "code",
   "execution_count": null,
   "id": "177c9eeb",
   "metadata": {},
   "outputs": [],
   "source": [
    "#model = RandomForestRegressor()  # You can choose a different model\n",
    "#pipeline = Pipeline(steps=[('preprocessor', preprocessor),\n",
    "                            #('model', model)])"
   ]
  },
  {
   "cell_type": "code",
   "execution_count": null,
   "id": "22e5d8e7",
   "metadata": {},
   "outputs": [],
   "source": [
    "#pipeline.fit(X_train, y_train)"
   ]
  }
 ],
 "metadata": {
  "kernelspec": {
   "display_name": "Python 3 (ipykernel)",
   "language": "python",
   "name": "python3"
  },
  "language_info": {
   "codemirror_mode": {
    "name": "ipython",
    "version": 3
   },
   "file_extension": ".py",
   "mimetype": "text/x-python",
   "name": "python",
   "nbconvert_exporter": "python",
   "pygments_lexer": "ipython3",
   "version": "3.10.9"
  }
 },
 "nbformat": 4,
 "nbformat_minor": 5
}
